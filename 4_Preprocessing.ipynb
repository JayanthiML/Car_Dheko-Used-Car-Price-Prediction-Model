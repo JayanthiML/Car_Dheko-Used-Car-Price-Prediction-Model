{
 "cells": [
  {
   "cell_type": "code",
   "execution_count": 1,
   "metadata": {},
   "outputs": [
    {
     "name": "stdout",
     "output_type": "stream",
     "text": [
      "Train MSE: 10319700918.4657, Test MSE: 81513846023.77179\n",
      "Train MAE: 42440.959605206335, Test MAE: 121861.41588892927\n",
      "Train R²: 0.9911773725482702, Test R²: 0.9464780933256574\n",
      "Model saved as random_forest_model.pkl\n"
     ]
    }
   ],
   "source": [
    "import pandas as pd\n",
    "from sklearn.model_selection import train_test_split\n",
    "from sklearn.metrics import mean_squared_error, mean_absolute_error, r2_score\n",
    "from sklearn.ensemble import RandomForestRegressor\n",
    "import pickle\n",
    "\n",
    "# Load the data\n",
    "df = pd.read_csv('Train_Data.csv')\n",
    "df.drop(['Unnamed: 0'], axis=1, inplace=True)\n",
    "\n",
    "# Define features and target\n",
    "X = df.drop(['Price'], axis=1)\n",
    "y = df['Price']\n",
    "\n",
    "# Split the data into training and testing sets\n",
    "x_train, x_test, y_train, y_test = train_test_split(X, y, test_size=0.2, random_state=42)\n",
    "\n",
    "# Initialize the Random Forest model with specified parameters\n",
    "rf_model = RandomForestRegressor(\n",
    "    max_depth=20, \n",
    "    min_samples_leaf=1, \n",
    "    min_samples_split=2, \n",
    "    n_estimators=200, \n",
    "    random_state=42\n",
    ")\n",
    "\n",
    "# Train the model on the full training set\n",
    "rf_model.fit(x_train, y_train)\n",
    "\n",
    "# Evaluate the model (optional)\n",
    "train_pred = rf_model.predict(x_train)\n",
    "test_pred = rf_model.predict(x_test)\n",
    "\n",
    "train_mse = mean_squared_error(y_train, train_pred)\n",
    "test_mse = mean_squared_error(y_test, test_pred)\n",
    "train_mae = mean_absolute_error(y_train, train_pred)\n",
    "test_mae = mean_absolute_error(y_test, test_pred)\n",
    "train_r2 = r2_score(y_train, train_pred)\n",
    "test_r2 = r2_score(y_test, test_pred)\n",
    "\n",
    "print(f\"Train MSE: {train_mse}, Test MSE: {test_mse}\")\n",
    "print(f\"Train MAE: {train_mae}, Test MAE: {test_mae}\")\n",
    "print(f\"Train R²: {train_r2}, Test R²: {test_r2}\")\n",
    "\n",
    "# Save the model as a pickle file\n",
    "with open('random_forest_model.pkl', 'wb') as file:\n",
    "    pickle.dump(rf_model, file)\n",
    "\n",
    "print(\"Model saved as random_forest_model.pkl\")"
   ]
  }
 ],
 "metadata": {
  "kernelspec": {
   "display_name": "3_CarDheko",
   "language": "python",
   "name": "python3"
  },
  "language_info": {
   "codemirror_mode": {
    "name": "ipython",
    "version": 3
   },
   "file_extension": ".py",
   "mimetype": "text/x-python",
   "name": "python",
   "nbconvert_exporter": "python",
   "pygments_lexer": "ipython3",
   "version": "3.12.3"
  }
 },
 "nbformat": 4,
 "nbformat_minor": 2
}
